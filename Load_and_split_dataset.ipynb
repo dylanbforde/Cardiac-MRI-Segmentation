{
  "nbformat": 4,
  "nbformat_minor": 0,
  "metadata": {
    "colab": {
      "provenance": [],
      "mount_file_id": "14k2_UbUGpT5VnvtSrgmUCO2-ecR3Mp0B",
      "authorship_tag": "ABX9TyMfsRxAft3KrS9eaJ7810ks",
      "include_colab_link": true
    },
    "kernelspec": {
      "name": "python3",
      "display_name": "Python 3"
    },
    "language_info": {
      "name": "python"
    }
  },
  "cells": [
    {
      "cell_type": "markdown",
      "metadata": {
        "id": "view-in-github",
        "colab_type": "text"
      },
      "source": [
        "<a href=\"https://colab.research.google.com/github/dylanbforde/Cardiac-MRI-Segmentation/blob/DataLoading/Load_and_split_dataset.ipynb\" target=\"_parent\"><img src=\"https://colab.research.google.com/assets/colab-badge.svg\" alt=\"Open In Colab\"/></a>"
      ]
    },
    {
      "cell_type": "code",
      "execution_count": 1,
      "metadata": {
        "id": "jzhqqnVBEPlg"
      },
      "outputs": [],
      "source": [
        "import os\n",
        "import nibabel as nib\n",
        "import numpy as np\n",
        "from pathlib import Path\n",
        "from sklearn.model_selection import train_test_split\n",
        "import shutil"
      ]
    },
    {
      "cell_type": "code",
      "source": [
        "# Short axis configuration - having an external config file might have been messy so I kept it in here\n",
        "RAW_DATA_DIR = Path(r'/content/drive/Shareddrives/Segmentation Group Assignment/Data/MnM2/dataset')\n",
        "OUTPUT_DIR = Path('./processed_data')\n",
        "MODALITY = 'SA'\n",
        "TEST_SPLIT = 0.2\n",
        "VAL_SPLIT = 0.4\n",
        "SEED = 42\n"
      ],
      "metadata": {
        "id": "6--nGsoPFFLS"
      },
      "execution_count": 2,
      "outputs": []
    },
    {
      "cell_type": "code",
      "source": [
        "for subset in ['train', 'val', 'test']:\n",
        "    for dtype in ['images', 'labels']:\n",
        "        path = OUTPUT_DIR / subset / MODALITY / dtype\n",
        "        path.mkdir(parents=True, exist_ok=True)\n"
      ],
      "metadata": {
        "id": "fWlYVZpZFYdJ"
      },
      "execution_count": 3,
      "outputs": []
    },
    {
      "cell_type": "code",
      "source": [
        "# Puts all the files together\n",
        "all_pairs = []\n",
        "\n",
        "for patient_folder in RAW_DATA_DIR.iterdir():\n",
        "    if not patient_folder.is_dir():\n",
        "        continue\n",
        "\n",
        "    for file in os.listdir(patient_folder):\n",
        "        if f\"_{MODALITY}_\" in file and not file.endswith('CINE.nii.gz'):\n",
        "            if 'gt' not in file:\n",
        "                image_path = patient_folder / file\n",
        "                label_file = file.replace('.nii.gz', '_gt.nii.gz')\n",
        "                label_path = patient_folder / label_file\n",
        "                if label_path.exists():\n",
        "                    all_pairs.append((image_path, label_path))"
      ],
      "metadata": {
        "id": "jBj3xdObFZvL"
      },
      "execution_count": 4,
      "outputs": []
    },
    {
      "cell_type": "code",
      "source": [
        "train_val, test = train_test_split(all_pairs, test_size=TEST_SPLIT, random_state=SEED)\n",
        "train, val = train_test_split(train_val, test_size=VAL_SPLIT / (1 - TEST_SPLIT), random_state=SEED)\n",
        "\n",
        "splits = {'train': train, 'val': val, 'test': test}\n",
        "\n",
        "# Saves files out, this should work now?\n",
        "for split_name, pairs in splits.items():\n",
        "    for image_path, label_path in pairs:\n",
        "        image = nib.load(str(image_path))\n",
        "        label = nib.load(str(label_path))\n",
        "\n",
        "        for i in range(image.shape[2]):\n",
        "            img_slice = image.get_fdata()[:, :, i]\n",
        "            lbl_slice = label.get_fdata()[:, :, i]\n",
        "\n",
        "            affine = image.affine\n",
        "            header = image.header\n",
        "\n",
        "            img_out = nib.Nifti1Image(img_slice[..., np.newaxis], affine, header)\n",
        "            lbl_out = nib.Nifti1Image(lbl_slice[..., np.newaxis], affine, header)\n",
        "\n",
        "            base_name = image_path.stem.replace('.nii', '') + f'_slice{i:03}.nii.gz'\n",
        "\n",
        "            nib.save(img_out, OUTPUT_DIR / split_name / MODALITY / 'images' / base_name)\n",
        "            nib.save(lbl_out, OUTPUT_DIR / split_name / MODALITY / 'labels' / base_name)\n",
        "\n",
        "print(\"Done\")"
      ],
      "metadata": {
        "id": "GQDOFjYdFa5X"
      },
      "execution_count": null,
      "outputs": []
    },
    {
      "cell_type": "code",
      "source": [
        "# Long Axis\n",
        "RAW_DATA_DIR = Path(r'/content/drive/Shareddrives/Segmentation Group Assignment/Data/MnM2/dataset')\n",
        "OUTPUT_DIR = Path('./processed_data')\n",
        "MODALITY = 'LA'\n",
        "TEST_SPLIT = 0.2\n",
        "VAL_SPLIT = 0.4\n",
        "SEED = 42\n"
      ],
      "metadata": {
        "id": "olKuELCeFm9n"
      },
      "execution_count": null,
      "outputs": []
    },
    {
      "cell_type": "code",
      "source": [
        "\n",
        "for subset in ['train', 'val', 'test']:\n",
        "    for dtype in ['images', 'labels']:\n",
        "        path = OUTPUT_DIR / subset / MODALITY / dtype\n",
        "        path.mkdir(parents=True, exist_ok=True)\n"
      ],
      "metadata": {
        "id": "_1C6eySYF2Z4"
      },
      "execution_count": null,
      "outputs": []
    },
    {
      "cell_type": "code",
      "source": [
        "all_pairs = []\n",
        "\n",
        "for patient_folder in RAW_DATA_DIR.iterdir():\n",
        "    if not patient_folder.is_dir():\n",
        "        continue\n",
        "\n",
        "    for file in os.listdir(patient_folder):\n",
        "        if f\"_{MODALITY}_\" in file and not file.endswith('CINE.nii.gz'):\n",
        "            if 'gt' not in file:\n",
        "                image_path = patient_folder / file\n",
        "                label_file = file.replace('.nii.gz', '_gt.nii.gz')\n",
        "                label_path = patient_folder / label_file\n",
        "                if label_path.exists():\n",
        "                    all_pairs.append((image_path, label_path))"
      ],
      "metadata": {
        "id": "PjxoNKU0F4Wb"
      },
      "execution_count": null,
      "outputs": []
    },
    {
      "cell_type": "code",
      "source": [
        "\n",
        "train_val, test = train_test_split(all_pairs, test_size=TEST_SPLIT, random_state=SEED)\n",
        "train, val = train_test_split(train_val, test_size=VAL_SPLIT / (1 - TEST_SPLIT), random_state=SEED)\n",
        "\n",
        "splits = {'train': train, 'val': val, 'test': test}\n",
        "\n",
        "for split_name, pairs in splits.items():\n",
        "    for image_path, label_path in pairs:\n",
        "        image = nib.load(str(image_path))\n",
        "        label = nib.load(str(label_path))\n",
        "\n",
        "        affine = image.affine\n",
        "        header = image.header\n",
        "\n",
        "        img_out = nib.Nifti1Image(image.get_fdata(), affine, header)\n",
        "        lbl_out = nib.Nifti1Image(label.get_fdata(), affine, header)\n",
        "\n",
        "        base_name = image_path.stem.replace('.nii', '') + '.nii.gz'\n",
        "\n",
        "        nib.save(img_out, OUTPUT_DIR / split_name / MODALITY / 'images' / base_name)\n",
        "        nib.save(lbl_out, OUTPUT_DIR / split_name / MODALITY / 'labels' / base_name)\n",
        "\n",
        "print(\"Done\")"
      ],
      "metadata": {
        "id": "nzBdyiLlF5qH"
      },
      "execution_count": null,
      "outputs": []
    }
  ]
}