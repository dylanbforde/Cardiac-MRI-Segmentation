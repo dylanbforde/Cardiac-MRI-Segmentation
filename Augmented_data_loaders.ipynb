{
  "nbformat": 4,
  "nbformat_minor": 0,
  "metadata": {
    "colab": {
      "provenance": [],
      "include_colab_link": true
    },
    "kernelspec": {
      "name": "python3",
      "display_name": "Python 3"
    },
    "language_info": {
      "name": "python"
    }
  },
  "cells": [
    {
      "cell_type": "markdown",
      "metadata": {
        "id": "view-in-github",
        "colab_type": "text"
      },
      "source": [
        "<a href=\"https://colab.research.google.com/github/dylanbforde/Cardiac-MRI-Segmentation/blob/main/Augmented_data_loaders.ipynb\" target=\"_parent\"><img src=\"https://colab.research.google.com/assets/colab-badge.svg\" alt=\"Open In Colab\"/></a>"
      ]
    },
    {
      "cell_type": "code",
      "source": [
        "!pip install torchio"
      ],
      "metadata": {
        "id": "Jfb805_NGnde"
      },
      "execution_count": null,
      "outputs": []
    },
    {
      "cell_type": "code",
      "execution_count": null,
      "metadata": {
        "id": "XHOtsSymGiUb"
      },
      "outputs": [],
      "source": [
        "from pathlib import Path\n",
        "from torch.utils.data import DataLoader\n",
        "import torchio as tio\n",
        "import numpy as np\n",
        "import torch\n"
      ]
    },
    {
      "cell_type": "code",
      "source": [
        "def get_subjects(image_dir, label_dir):\n",
        "    image_paths = sorted(image_dir.glob('*.nii.gz'))\n",
        "    label_paths = sorted(label_dir.glob('*.nii.gz'))\n",
        "    assert len(image_paths) == len(label_paths),\n",
        "\n",
        "    subjects = []\n",
        "    for img_path, lbl_path in zip(image_paths, label_paths):\n",
        "        subject = tio.Subject(\n",
        "            mri=tio.ScalarImage(img_path),\n",
        "            heart=tio.LabelMap(lbl_path)\n",
        "        )\n",
        "        subjects.append(subject)\n",
        "    return subjects"
      ],
      "metadata": {
        "id": "TofKHqnJGqpH"
      },
      "execution_count": null,
      "outputs": []
    },
    {
      "cell_type": "code",
      "source": [
        "def get_loaders(modality='SA', base_path='./processed_data', batch_size=4, num_workers=4,\n",
        "                patch_size=(256, 256, 1), augment=True):\n",
        "\n",
        "    assert modality in ['SA', 'LA'], \"Modality must be 'SA' or 'LA'\"\n",
        "\n",
        "    base_path = Path(base_path)\n",
        "    paths = {\n",
        "        'train': {\n",
        "            'images': base_path / 'train' / modality / 'images',\n",
        "            'labels': base_path / 'train' / modality / 'labels',\n",
        "        },\n",
        "        'val': {\n",
        "            'images': base_path / 'val' / modality / 'images',\n",
        "            'labels': base_path / 'val' / modality / 'labels',\n",
        "        },\n",
        "        'test': {\n",
        "            'images': base_path / 'test' / modality / 'images',\n",
        "            'labels': base_path / 'test' / modality / 'labels',\n",
        "        }\n",
        "    }\n",
        "\n",
        "    # Torchio has some swanky looking transforms - these ones look good can add more?\n",
        "    # Can find more here: https://docs.torchio.org/transforms/transforms.html\n",
        "    common_transforms = [\n",
        "        tio.CropOrPad(patch_size),\n",
        "        tio.ZNormalization(masking_method=tio.ZNormalization.mean),\n",
        "        tio.RescaleIntensity(out_min_max=(0, 1)),\n",
        "    ]\n",
        "\n",
        "    augment_transforms = [\n",
        "        tio.RandomFlip(axes=(0, 1), flip_probability=0.5),\n",
        "        tio.RandomNoise(mean=0.0, std=0.01),\n",
        "        tio.RandomBlur(std=(0.1, 1.0)),\n",
        "    ] if augment else []\n",
        "\n",
        "    training_transform = tio.Compose(common_transforms + augment_transforms)\n",
        "    validation_transform = tio.Compose(common_transforms)\n",
        "\n",
        "\n",
        "    train_subjects = get_subjects(paths['train']['images'], paths['train']['labels'])\n",
        "    val_subjects = get_subjects(paths['val']['images'], paths['val']['labels'])\n",
        "    test_subjects = get_subjects(paths['test']['images'], paths['test']['labels'])\n",
        "\n",
        "    train_dataset = tio.SubjectsDataset(train_subjects, transform=training_transform)\n",
        "    val_dataset = tio.SubjectsDataset(val_subjects, transform=validation_transform)\n",
        "    test_dataset = tio.SubjectsDataset(test_subjects, transform=validation_transform)\n",
        "\n",
        "    train_loader = DataLoader(train_dataset, batch_size=batch_size, shuffle=True, num_workers=num_workers)\n",
        "    val_loader = DataLoader(val_dataset, batch_size=batch_size, shuffle=False, num_workers=num_workers)\n",
        "    test_loader = DataLoader(test_dataset, batch_size=batch_size, shuffle=False, num_workers=num_workers)\n",
        "\n",
        "    print(\"Done\")\n",
        "\n",
        "    return train_loader, val_loader, test_loader"
      ],
      "metadata": {
        "id": "0tFhTL98Gro4"
      },
      "execution_count": null,
      "outputs": []
    },
    {
      "cell_type": "code",
      "source": [
        "train_loader, val_loader, test_loader = get_loaders(\n",
        "    modality='SA',\n",
        "    base_path='./processed_data',\n",
        "    batch_size=2,\n",
        "    num_workers=0,\n",
        "    patch_size=(256, 256,1),\n",
        "    augment=True\n",
        ")\n"
      ],
      "metadata": {
        "id": "dkPBVL16GuR9"
      },
      "execution_count": null,
      "outputs": []
    },
    {
      "cell_type": "code",
      "source": [
        "# This just tests it on a single batch to make sure everthing works\n",
        "\n",
        "import matplotlib.pyplot as plt\n",
        "\n",
        "batch = next(iter(train_loader))\n",
        "images = batch['mri'][tio.DATA]\n",
        "labels = batch['heart'][tio.DATA]\n",
        "\n",
        "print(f\"Images shape: {images.shape}\")\n",
        "print(f\"Labels shape: {labels.shape}\")\n",
        "print(f\"Subject keys: {batch.keys()}\")\n",
        "\n",
        "img_slice = images[0, 0, :, :, 0].numpy()\n",
        "lbl_slice = labels[0, 0, :, :, 0].numpy()\n",
        "\n",
        "plt.figure(figsize=(10, 4))\n",
        "plt.subplot(1, 2, 1)\n",
        "plt.imshow(img_slice, cmap='gray')\n",
        "plt.title(\"Data auugmented Image\")\n",
        "\n",
        "plt.subplot(1, 2, 2)\n",
        "plt.imshow(lbl_slice, cmap='Reds', alpha=0.7)\n",
        "plt.title(\"Label overlay\")\n",
        "\n",
        "plt.tight_layout()\n",
        "plt.show()"
      ],
      "metadata": {
        "id": "Q496m5lfGvYw"
      },
      "execution_count": null,
      "outputs": []
    }
  ]
}